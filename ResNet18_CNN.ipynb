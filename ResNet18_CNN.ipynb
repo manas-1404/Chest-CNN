{
  "nbformat": 4,
  "nbformat_minor": 0,
  "metadata": {
    "colab": {
      "provenance": [],
      "gpuType": "T4",
      "authorship_tag": "ABX9TyNLwjzV5Vkt/YksDJcaGqdu",
      "include_colab_link": true
    },
    "kernelspec": {
      "name": "python3",
      "display_name": "Python 3"
    },
    "language_info": {
      "name": "python"
    },
    "accelerator": "GPU"
  },
  "cells": [
    {
      "cell_type": "markdown",
      "metadata": {
        "id": "view-in-github",
        "colab_type": "text"
      },
      "source": [
        "<a href=\"https://colab.research.google.com/github/manas-1404/Chest-CNN/blob/main/ResNet18_CNN.ipynb\" target=\"_parent\"><img src=\"https://colab.research.google.com/assets/colab-badge.svg\" alt=\"Open In Colab\"/></a>"
      ]
    },
    {
      "cell_type": "code",
      "execution_count": 1,
      "metadata": {
        "id": "fmaD8nWEO22e"
      },
      "outputs": [],
      "source": [
        "import torch\n",
        "import torchvision.models as models\n",
        "import torchvision.transforms as transforms\n",
        "from torchvision.datasets import MNIST\n",
        "from torch.utils.data import DataLoader\n",
        "import torch.nn as nn\n",
        "import torch.optim as optim\n"
      ]
    },
    {
      "cell_type": "code",
      "source": [
        "def modify_resnet18():\n",
        "    # Load a pre-trained ResNet18 model\n",
        "    model = models.resnet18(pretrained=True)\n",
        "\n",
        "    # Change the first convolution layer to accept a single channel (grayscale)\n",
        "    model.conv1 = nn.Conv2d(1, 64, kernel_size=7, stride=2, padding=3, bias=False)\n",
        "\n",
        "    # Adjust the final fully connected layer to the number of classes in MNIST\n",
        "    num_ftrs = model.fc.in_features\n",
        "    model.fc = nn.Linear(num_ftrs, 10)\n",
        "\n",
        "    return model\n"
      ],
      "metadata": {
        "id": "gcYA3P9BPKv-"
      },
      "execution_count": 2,
      "outputs": []
    },
    {
      "cell_type": "code",
      "source": [
        "transform = transforms.Compose([\n",
        "    transforms.Resize(224),  # Resize the images to 224x224\n",
        "    transforms.ToTensor(),\n",
        "    transforms.Normalize(mean=[0.485], std=[0.229])  # Normalizing with ImageNet stats\n",
        "])\n",
        "\n",
        "# Load MNIST data\n",
        "train_dataset = MNIST(root='./data', train=True, transform=transform, download=True)\n",
        "test_dataset = MNIST(root='./data', train=False, transform=transform)\n",
        "\n",
        "# Create data loaders\n",
        "train_loader = DataLoader(dataset=train_dataset, batch_size=60, shuffle=True)\n",
        "test_loader = DataLoader(dataset=test_dataset, batch_size=60, shuffle=False)\n"
      ],
      "metadata": {
        "id": "dtWf_9RzPL_5"
      },
      "execution_count": 14,
      "outputs": []
    },
    {
      "cell_type": "code",
      "source": [
        "print(f\"Number of training samples: {len(train_dataset)}\")\n",
        "print(f\"Number of batches per epoch: {len(train_loader)}\")\n"
      ],
      "metadata": {
        "colab": {
          "base_uri": "https://localhost:8080/"
        },
        "id": "r179RP8bWyc1",
        "outputId": "7e50cddd-cea7-44a6-e2ac-3e3da5fd9ca3"
      },
      "execution_count": 15,
      "outputs": [
        {
          "output_type": "stream",
          "name": "stdout",
          "text": [
            "Number of training samples: 60000\n",
            "Number of batches per epoch: 1000\n"
          ]
        }
      ]
    },
    {
      "cell_type": "code",
      "source": [
        "def train_model(model, train_loader, epochs=10):\n",
        "    device = torch.device(\"cuda\" if torch.cuda.is_available() else \"cpu\")\n",
        "    print(device)\n",
        "    model = model.to(device)\n",
        "    criterion = nn.CrossEntropyLoss()\n",
        "    optimizer = optim.Adam(model.parameters(), lr=0.001)\n",
        "\n",
        "    for epoch in range(epochs):\n",
        "        model.train()\n",
        "        total_loss = 0\n",
        "        total_batches = 0  # Counter to track the number of batches processed\n",
        "        for images, labels in train_loader:\n",
        "            # print(\"-\"*75)\n",
        "            total_batches += 1\n",
        "            images, labels = images.to(device), labels.to(device)\n",
        "            optimizer.zero_grad()\n",
        "            outputs = model(images)\n",
        "            loss = criterion(outputs, labels)\n",
        "            loss.backward()\n",
        "            optimizer.step()\n",
        "            total_loss += loss.item()\n",
        "        print(f\"Epoch {epoch+1}, Batch Number {total_batches}, Average Loss: {total_loss/total_batches}\")\n",
        "\n",
        "\n",
        "model = modify_resnet18()\n",
        "\n",
        "train_model(model, train_loader)\n"
      ],
      "metadata": {
        "colab": {
          "base_uri": "https://localhost:8080/"
        },
        "id": "R9Yf83iaPYjQ",
        "outputId": "0f9764ec-95ed-4886-9c6a-3229bd9ccc55"
      },
      "execution_count": 16,
      "outputs": [
        {
          "output_type": "stream",
          "name": "stdout",
          "text": [
            "cuda\n",
            "Epoch 1, Batch Number 1000, Average Loss: 0.06888471301743994\n",
            "Epoch 2, Batch Number 1000, Average Loss: 0.03332242677410249\n",
            "Epoch 3, Batch Number 1000, Average Loss: 0.027229200329151354\n",
            "Epoch 4, Batch Number 1000, Average Loss: 0.02322526342679339\n",
            "Epoch 5, Batch Number 1000, Average Loss: 0.019878966984259023\n",
            "Epoch 6, Batch Number 1000, Average Loss: 0.018054614545861113\n",
            "Epoch 7, Batch Number 1000, Average Loss: 0.013255958643980194\n",
            "Epoch 8, Batch Number 1000, Average Loss: 0.013592571076880632\n",
            "Epoch 9, Batch Number 1000, Average Loss: 0.010431886660590863\n",
            "Epoch 10, Batch Number 1000, Average Loss: 0.009903182845065658\n"
          ]
        }
      ]
    },
    {
      "cell_type": "code",
      "source": [
        "def evaluate_model(model, test_loader):\n",
        "    device = torch.device(\"cuda\" if torch.cuda.is_available() else \"cpu\")\n",
        "    print(device)\n",
        "    model = model.to(device)\n",
        "    model.eval()\n",
        "    correct = 0\n",
        "    total = 0\n",
        "    with torch.no_grad():\n",
        "        for images, labels in test_loader:\n",
        "            images, labels = images.to(device), labels.to(device)\n",
        "            outputs = model(images)\n",
        "            _, predicted = torch.max(outputs.data, 1)\n",
        "            total += labels.size(0)\n",
        "            correct += (predicted == labels).sum().item()\n",
        "    print(f'Accuracy of the model on the test images: {100 * correct / total}%')\n",
        "\n",
        "evaluate_model(model, test_loader)\n"
      ],
      "metadata": {
        "colab": {
          "base_uri": "https://localhost:8080/"
        },
        "id": "OE40llq7XgkL",
        "outputId": "371868d8-f41e-422d-925f-a563cded8504"
      },
      "execution_count": 18,
      "outputs": [
        {
          "output_type": "stream",
          "name": "stdout",
          "text": [
            "cuda\n",
            "Accuracy of the model on the test images: 99.51%\n"
          ]
        }
      ]
    }
  ]
}